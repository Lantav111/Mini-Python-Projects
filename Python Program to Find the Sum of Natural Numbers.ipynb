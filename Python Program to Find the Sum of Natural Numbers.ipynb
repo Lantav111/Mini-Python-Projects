{
 "cells": [
  {
   "cell_type": "markdown",
   "id": "d5d00b39",
   "metadata": {},
   "source": [
    "# Python Program to Find the Sum of Natural Numbers"
   ]
  },
  {
   "cell_type": "code",
   "execution_count": 1,
   "id": "064696f6",
   "metadata": {},
   "outputs": [
    {
     "name": "stdout",
     "output_type": "stream",
     "text": [
      "Enter ,till how many natural numbers you want the sum : 8\n",
      "Sum of 8 natural numbers is :  36.0\n"
     ]
    }
   ],
   "source": [
    "user_length=int(input(\"Enter ,till how many natural numbers you want the sum : \"))\n",
    "print(\"Sum of {} natural numbers is : \".format(user_length),(user_length*(user_length+1))/2)"
   ]
  }
 ],
 "metadata": {
  "kernelspec": {
   "display_name": "Python 3 (ipykernel)",
   "language": "python",
   "name": "python3"
  },
  "language_info": {
   "codemirror_mode": {
    "name": "ipython",
    "version": 3
   },
   "file_extension": ".py",
   "mimetype": "text/x-python",
   "name": "python",
   "nbconvert_exporter": "python",
   "pygments_lexer": "ipython3",
   "version": "3.9.12"
  }
 },
 "nbformat": 4,
 "nbformat_minor": 5
}
