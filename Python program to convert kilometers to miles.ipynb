{
 "cells": [
  {
   "cell_type": "markdown",
   "id": "c7e0a659",
   "metadata": {},
   "source": [
    "# Python program to convert kilometers to miles"
   ]
  },
  {
   "cell_type": "code",
   "execution_count": 1,
   "id": "4d4abb06",
   "metadata": {},
   "outputs": [
    {
     "name": "stdout",
     "output_type": "stream",
     "text": [
      "Enter distance in kilometers = 1000\n",
      "1000 kilometres equals 621.0 in miles\n"
     ]
    }
   ],
   "source": [
    "Kilometer=int(input(\"Enter distance in kilometers = \"))\n",
    "miles=0.621 * Kilometer\n",
    "print(Kilometer,\"kilometres equals\",miles,\"in miles\")"
   ]
  }
 ],
 "metadata": {
  "kernelspec": {
   "display_name": "Python 3 (ipykernel)",
   "language": "python",
   "name": "python3"
  },
  "language_info": {
   "codemirror_mode": {
    "name": "ipython",
    "version": 3
   },
   "file_extension": ".py",
   "mimetype": "text/x-python",
   "name": "python",
   "nbconvert_exporter": "python",
   "pygments_lexer": "ipython3",
   "version": "3.9.12"
  }
 },
 "nbformat": 4,
 "nbformat_minor": 5
}
