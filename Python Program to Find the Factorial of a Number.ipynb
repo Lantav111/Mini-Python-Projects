{
 "cells": [
  {
   "cell_type": "markdown",
   "id": "2e6f9155",
   "metadata": {},
   "source": [
    "# Python Program to Find the Factorial of a Number"
   ]
  },
  {
   "cell_type": "code",
   "execution_count": 1,
   "id": "49a07268",
   "metadata": {},
   "outputs": [
    {
     "name": "stdout",
     "output_type": "stream",
     "text": [
      "Enter the numberfor which you want to find factorial : 6\n",
      "720 is the factorial of your input number\n"
     ]
    }
   ],
   "source": [
    "i=int(input(\"Enter the numberfor which you want to find factorial : \"))\n",
    "n=1\n",
    "while i>1:\n",
    "    n=n*(i)\n",
    "    i=i-1\n",
    "print(\"{} is the factorial of your input number\".format(n))"
   ]
  }
 ],
 "metadata": {
  "kernelspec": {
   "display_name": "Python 3 (ipykernel)",
   "language": "python",
   "name": "python3"
  },
  "language_info": {
   "codemirror_mode": {
    "name": "ipython",
    "version": 3
   },
   "file_extension": ".py",
   "mimetype": "text/x-python",
   "name": "python",
   "nbconvert_exporter": "python",
   "pygments_lexer": "ipython3",
   "version": "3.9.12"
  }
 },
 "nbformat": 4,
 "nbformat_minor": 5
}
