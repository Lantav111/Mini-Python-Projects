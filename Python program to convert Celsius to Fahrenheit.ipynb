{
 "cells": [
  {
   "cell_type": "markdown",
   "id": "b196c8bb",
   "metadata": {},
   "source": [
    "# Python program to convert Celsius to Fahrenheit"
   ]
  },
  {
   "cell_type": "code",
   "execution_count": 1,
   "id": "05486b28",
   "metadata": {},
   "outputs": [
    {
     "name": "stdout",
     "output_type": "stream",
     "text": [
      "Enter Temperature in Celsius = 77\n",
      "77 Celsius equals 170.6 in Fahrenheit\n"
     ]
    }
   ],
   "source": [
    "Celsius=int(input(\"Enter Temperature in Celsius = \"))\n",
    "Fahrenheit=(Celsius * 1.8) +32\n",
    "print(Celsius,\"Celsius equals\",Fahrenheit,\"in Fahrenheit\")"
   ]
  }
 ],
 "metadata": {
  "kernelspec": {
   "display_name": "Python 3 (ipykernel)",
   "language": "python",
   "name": "python3"
  },
  "language_info": {
   "codemirror_mode": {
    "name": "ipython",
    "version": 3
   },
   "file_extension": ".py",
   "mimetype": "text/x-python",
   "name": "python",
   "nbconvert_exporter": "python",
   "pygments_lexer": "ipython3",
   "version": "3.9.12"
  }
 },
 "nbformat": 4,
 "nbformat_minor": 5
}
