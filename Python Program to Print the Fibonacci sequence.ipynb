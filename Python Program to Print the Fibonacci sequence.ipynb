{
 "cells": [
  {
   "cell_type": "markdown",
   "id": "0e5def73",
   "metadata": {},
   "source": [
    "# Python Program to Print the Fibonacci sequence"
   ]
  },
  {
   "cell_type": "code",
   "execution_count": 1,
   "id": "35cbd505",
   "metadata": {},
   "outputs": [
    {
     "name": "stdout",
     "output_type": "stream",
     "text": [
      "Enter the length for which you want Fibonacci sequence  : 8\n",
      "Your Fibonacci Sequesnce is :  [0, 1, 1, 2, 3, 5, 8, 13]\n"
     ]
    }
   ],
   "source": [
    "Fibonacci_length=int(input(\"Enter the length for which you want Fibonacci sequence  : \"))\n",
    "a=0\n",
    "b=1\n",
    "third=1\n",
    "l=[a,b]\n",
    "for i in range(Fibonacci_length-2):\n",
    "    third=a+b\n",
    "    l.append(third)\n",
    "    a=b\n",
    "    b=third\n",
    "print(\"Your Fibonacci Sequesnce is : \",l)"
   ]
  }
 ],
 "metadata": {
  "kernelspec": {
   "display_name": "Python 3 (ipykernel)",
   "language": "python",
   "name": "python3"
  },
  "language_info": {
   "codemirror_mode": {
    "name": "ipython",
    "version": 3
   },
   "file_extension": ".py",
   "mimetype": "text/x-python",
   "name": "python",
   "nbconvert_exporter": "python",
   "pygments_lexer": "ipython3",
   "version": "3.9.12"
  }
 },
 "nbformat": 4,
 "nbformat_minor": 5
}
