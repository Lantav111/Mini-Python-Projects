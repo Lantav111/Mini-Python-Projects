{
 "cells": [
  {
   "cell_type": "markdown",
   "id": "7d3d75ee",
   "metadata": {},
   "source": [
    "# Python program to swap two variables without temp variable"
   ]
  },
  {
   "cell_type": "code",
   "execution_count": 1,
   "id": "d5a26241",
   "metadata": {},
   "outputs": [
    {
     "name": "stdout",
     "output_type": "stream",
     "text": [
      "Enter value x = 4\n",
      "Enter value y = 'King'\n",
      "Values before swapping are  4 and 'King'\n",
      "Values after swapping are  'King' and 4\n"
     ]
    }
   ],
   "source": [
    "x=input(\"Enter value x = \")\n",
    "y=input(\"Enter value y = \")\n",
    "print(\"Values before swapping are \",x,\"and\",y)\n",
    "x,y=y,x\n",
    "print(\"Values after swapping are \",x,\"and\",y)"
   ]
  },
  {
   "cell_type": "code",
   "execution_count": null,
   "id": "12ecd7a2",
   "metadata": {},
   "outputs": [],
   "source": []
  }
 ],
 "metadata": {
  "kernelspec": {
   "display_name": "Python 3 (ipykernel)",
   "language": "python",
   "name": "python3"
  },
  "language_info": {
   "codemirror_mode": {
    "name": "ipython",
    "version": 3
   },
   "file_extension": ".py",
   "mimetype": "text/x-python",
   "name": "python",
   "nbconvert_exporter": "python",
   "pygments_lexer": "ipython3",
   "version": "3.9.12"
  }
 },
 "nbformat": 4,
 "nbformat_minor": 5
}
